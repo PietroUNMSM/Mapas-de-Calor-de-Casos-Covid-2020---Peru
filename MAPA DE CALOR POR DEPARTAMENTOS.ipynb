{
 "cells": [
  {
   "cell_type": "markdown",
   "metadata": {},
   "source": [
    "# MAPA DE CALOR POR DEPARTAMENTOS DEL PERÚ"
   ]
  },
  {
   "cell_type": "markdown",
   "metadata": {},
   "source": [
    "# Instalar la librería folium (pip install folium)"
   ]
  },
  {
   "cell_type": "markdown",
   "metadata": {},
   "source": [
    "# Descargar el excel mejorado llamado \"CASOS\" y correr cada parte del programa "
   ]
  },
  {
   "cell_type": "code",
   "execution_count": 1,
   "metadata": {},
   "outputs": [
    {
     "data": {
      "text/plain": [
       "array(['PERÚ'], dtype=object)"
      ]
     },
     "execution_count": 1,
     "metadata": {},
     "output_type": "execute_result"
    }
   ],
   "source": [
    "import pandas as pd \n",
    "import numpy as np\n",
    "#Imprimir la tabla de datos del excel CASOS por Departamentos \n",
    "df= pd.read_excel('CASOS.xlsx', sep=',')\n",
    "#PRE-PROCESO DE LOS DATOS\n",
    "lugar= df.loc[df.Pais=='PERÚ', :]\n",
    "lugar.Pais.unique()"
   ]
  },
  {
   "cell_type": "code",
   "execution_count": 2,
   "metadata": {},
   "outputs": [
    {
     "data": {
      "text/html": [
       "<div>\n",
       "<style scoped>\n",
       "    .dataframe tbody tr th:only-of-type {\n",
       "        vertical-align: middle;\n",
       "    }\n",
       "\n",
       "    .dataframe tbody tr th {\n",
       "        vertical-align: top;\n",
       "    }\n",
       "\n",
       "    .dataframe thead th {\n",
       "        text-align: right;\n",
       "    }\n",
       "</style>\n",
       "<table border=\"1\" class=\"dataframe\">\n",
       "  <thead>\n",
       "    <tr style=\"text-align: right;\">\n",
       "      <th></th>\n",
       "      <th>Región</th>\n",
       "      <th>LATITUD</th>\n",
       "      <th>LONGITUD</th>\n",
       "      <th>POSITIVOS</th>\n",
       "      <th>FALLECIDOS</th>\n",
       "    </tr>\n",
       "  </thead>\n",
       "  <tbody>\n",
       "    <tr>\n",
       "      <th>0</th>\n",
       "      <td>LIMA</td>\n",
       "      <td>-12.046369</td>\n",
       "      <td>-77.044982</td>\n",
       "      <td>313114</td>\n",
       "      <td>12443</td>\n",
       "    </tr>\n",
       "    <tr>\n",
       "      <th>1</th>\n",
       "      <td>CALLAO</td>\n",
       "      <td>-12.056590</td>\n",
       "      <td>-77.118140</td>\n",
       "      <td>30060</td>\n",
       "      <td>1655</td>\n",
       "    </tr>\n",
       "    <tr>\n",
       "      <th>2</th>\n",
       "      <td>LA LIBERTAD</td>\n",
       "      <td>-8.115990</td>\n",
       "      <td>-79.029980</td>\n",
       "      <td>25337</td>\n",
       "      <td>2134</td>\n",
       "    </tr>\n",
       "    <tr>\n",
       "      <th>3</th>\n",
       "      <td>AREQUIPA</td>\n",
       "      <td>-16.398890</td>\n",
       "      <td>-71.535000</td>\n",
       "      <td>37719</td>\n",
       "      <td>1253</td>\n",
       "    </tr>\n",
       "    <tr>\n",
       "      <th>4</th>\n",
       "      <td>MOQUEGUA</td>\n",
       "      <td>-17.198320</td>\n",
       "      <td>-70.935670</td>\n",
       "      <td>10780</td>\n",
       "      <td>246</td>\n",
       "    </tr>\n",
       "    <tr>\n",
       "      <th>5</th>\n",
       "      <td>CUSCO</td>\n",
       "      <td>-13.522640</td>\n",
       "      <td>-71.967340</td>\n",
       "      <td>18379</td>\n",
       "      <td>375</td>\n",
       "    </tr>\n",
       "    <tr>\n",
       "      <th>6</th>\n",
       "      <td>LAMBAYEQUE</td>\n",
       "      <td>-6.701110</td>\n",
       "      <td>-79.906110</td>\n",
       "      <td>23878</td>\n",
       "      <td>1640</td>\n",
       "    </tr>\n",
       "    <tr>\n",
       "      <th>7</th>\n",
       "      <td>PIURA</td>\n",
       "      <td>-5.194490</td>\n",
       "      <td>-80.632820</td>\n",
       "      <td>32373</td>\n",
       "      <td>1888</td>\n",
       "    </tr>\n",
       "    <tr>\n",
       "      <th>8</th>\n",
       "      <td>AMAZONAS</td>\n",
       "      <td>-6.231690</td>\n",
       "      <td>-77.869030</td>\n",
       "      <td>12417</td>\n",
       "      <td>203</td>\n",
       "    </tr>\n",
       "    <tr>\n",
       "      <th>9</th>\n",
       "      <td>ICA</td>\n",
       "      <td>-14.067770</td>\n",
       "      <td>-75.728610</td>\n",
       "      <td>24172</td>\n",
       "      <td>1523</td>\n",
       "    </tr>\n",
       "    <tr>\n",
       "      <th>10</th>\n",
       "      <td>JUNIN</td>\n",
       "      <td>-11.158950</td>\n",
       "      <td>-75.993040</td>\n",
       "      <td>17271</td>\n",
       "      <td>708</td>\n",
       "    </tr>\n",
       "    <tr>\n",
       "      <th>11</th>\n",
       "      <td>ANCASH</td>\n",
       "      <td>-9.527790</td>\n",
       "      <td>-77.527780</td>\n",
       "      <td>20329</td>\n",
       "      <td>1229</td>\n",
       "    </tr>\n",
       "    <tr>\n",
       "      <th>12</th>\n",
       "      <td>CAJAMARCA</td>\n",
       "      <td>-7.163780</td>\n",
       "      <td>-78.500270</td>\n",
       "      <td>17529</td>\n",
       "      <td>423</td>\n",
       "    </tr>\n",
       "    <tr>\n",
       "      <th>13</th>\n",
       "      <td>HUANUCO</td>\n",
       "      <td>-9.930620</td>\n",
       "      <td>-76.242230</td>\n",
       "      <td>14103</td>\n",
       "      <td>358</td>\n",
       "    </tr>\n",
       "    <tr>\n",
       "      <th>14</th>\n",
       "      <td>APURIMAC</td>\n",
       "      <td>-13.633890</td>\n",
       "      <td>-72.881390</td>\n",
       "      <td>3958</td>\n",
       "      <td>77</td>\n",
       "    </tr>\n",
       "    <tr>\n",
       "      <th>15</th>\n",
       "      <td>PUNO</td>\n",
       "      <td>-15.842200</td>\n",
       "      <td>-70.019900</td>\n",
       "      <td>10768</td>\n",
       "      <td>267</td>\n",
       "    </tr>\n",
       "    <tr>\n",
       "      <th>16</th>\n",
       "      <td>TACNA</td>\n",
       "      <td>-18.014650</td>\n",
       "      <td>-70.253620</td>\n",
       "      <td>10510</td>\n",
       "      <td>180</td>\n",
       "    </tr>\n",
       "    <tr>\n",
       "      <th>17</th>\n",
       "      <td>LORETO</td>\n",
       "      <td>-3.749120</td>\n",
       "      <td>-73.253830</td>\n",
       "      <td>17112</td>\n",
       "      <td>938</td>\n",
       "    </tr>\n",
       "    <tr>\n",
       "      <th>18</th>\n",
       "      <td>SAN MARTIN</td>\n",
       "      <td>-5.185910</td>\n",
       "      <td>-80.669270</td>\n",
       "      <td>15440</td>\n",
       "      <td>677</td>\n",
       "    </tr>\n",
       "    <tr>\n",
       "      <th>19</th>\n",
       "      <td>AYACUCHO</td>\n",
       "      <td>-13.158780</td>\n",
       "      <td>-74.223210</td>\n",
       "      <td>9841</td>\n",
       "      <td>283</td>\n",
       "    </tr>\n",
       "    <tr>\n",
       "      <th>20</th>\n",
       "      <td>HUANCAVELICA</td>\n",
       "      <td>-12.782610</td>\n",
       "      <td>-74.972660</td>\n",
       "      <td>5628</td>\n",
       "      <td>97</td>\n",
       "    </tr>\n",
       "    <tr>\n",
       "      <th>21</th>\n",
       "      <td>PASCO</td>\n",
       "      <td>-10.667480</td>\n",
       "      <td>-76.256680</td>\n",
       "      <td>4440</td>\n",
       "      <td>96</td>\n",
       "    </tr>\n",
       "    <tr>\n",
       "      <th>22</th>\n",
       "      <td>TUMBES</td>\n",
       "      <td>-3.566940</td>\n",
       "      <td>-80.451530</td>\n",
       "      <td>6366</td>\n",
       "      <td>291</td>\n",
       "    </tr>\n",
       "    <tr>\n",
       "      <th>23</th>\n",
       "      <td>UCAYALI</td>\n",
       "      <td>-8.379150</td>\n",
       "      <td>-74.553870</td>\n",
       "      <td>14968</td>\n",
       "      <td>306</td>\n",
       "    </tr>\n",
       "    <tr>\n",
       "      <th>24</th>\n",
       "      <td>MADRE DE DIOS</td>\n",
       "      <td>-12.593310</td>\n",
       "      <td>-69.189130</td>\n",
       "      <td>7116</td>\n",
       "      <td>132</td>\n",
       "    </tr>\n",
       "  </tbody>\n",
       "</table>\n",
       "</div>"
      ],
      "text/plain": [
       "           Región    LATITUD   LONGITUD  POSITIVOS  FALLECIDOS\n",
       "0           LIMA  -12.046369 -77.044982     313114       12443\n",
       "1          CALLAO -12.056590 -77.118140      30060        1655\n",
       "2     LA LIBERTAD  -8.115990 -79.029980      25337        2134\n",
       "3        AREQUIPA -16.398890 -71.535000      37719        1253\n",
       "4        MOQUEGUA -17.198320 -70.935670      10780         246\n",
       "5           CUSCO -13.522640 -71.967340      18379         375\n",
       "6      LAMBAYEQUE  -6.701110 -79.906110      23878        1640\n",
       "7           PIURA  -5.194490 -80.632820      32373        1888\n",
       "8        AMAZONAS  -6.231690 -77.869030      12417         203\n",
       "9             ICA -14.067770 -75.728610      24172        1523\n",
       "10          JUNIN -11.158950 -75.993040      17271         708\n",
       "11         ANCASH  -9.527790 -77.527780      20329        1229\n",
       "12      CAJAMARCA  -7.163780 -78.500270      17529         423\n",
       "13        HUANUCO  -9.930620 -76.242230      14103         358\n",
       "14       APURIMAC -13.633890 -72.881390       3958          77\n",
       "15           PUNO -15.842200 -70.019900      10768         267\n",
       "16          TACNA -18.014650 -70.253620      10510         180\n",
       "17         LORETO  -3.749120 -73.253830      17112         938\n",
       "18     SAN MARTIN  -5.185910 -80.669270      15440         677\n",
       "19       AYACUCHO -13.158780 -74.223210       9841         283\n",
       "20   HUANCAVELICA -12.782610 -74.972660       5628          97\n",
       "21          PASCO -10.667480 -76.256680       4440          96\n",
       "22         TUMBES  -3.566940 -80.451530       6366         291\n",
       "23        UCAYALI  -8.379150 -74.553870      14968         306\n",
       "24  MADRE DE DIOS -12.593310 -69.189130       7116         132"
      ]
     },
     "execution_count": 2,
     "metadata": {},
     "output_type": "execute_result"
    }
   ],
   "source": [
    "geo_last = df.loc[df.Pais=='PERÚ',['Región','LATITUD','LONGITUD','POSITIVOS','FALLECIDOS']]\n",
    "geo_last"
   ]
  },
  {
   "cell_type": "code",
   "execution_count": 3,
   "metadata": {},
   "outputs": [
    {
     "name": "stdout",
     "output_type": "stream",
     "text": [
      "La Cantidad de Casos positivos total es : 703608\n"
     ]
    }
   ],
   "source": [
    "# lA SUMA DE LOS CASOS POSITIVOS(+) DE TODOS LOS DEPARTAMENTOS DEL PERU\n",
    "print('La Cantidad de Casos positivos total es :',geo_last.POSITIVOS.sum())"
   ]
  },
  {
   "cell_type": "code",
   "execution_count": 12,
   "metadata": {},
   "outputs": [
    {
     "data": {
      "text/html": [
       "<div style=\"width:100%;\"><div style=\"position:relative;width:100%;height:0;padding-bottom:60%;\"><span style=\"color:#565656\">Make this Notebook Trusted to load map: File -> Trust Notebook</span><iframe src=\"about:blank\" style=\"position:absolute;width:100%;height:100%;left:0;top:0;border:none !important;\" data-html=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 onload=\"this.contentDocument.open();this.contentDocument.write(atob(this.getAttribute('data-html')));this.contentDocument.close();\" allowfullscreen webkitallowfullscreen mozallowfullscreen></iframe></div></div>"
      ],
      "text/plain": [
       "<folium.folium.Map at 0x168f3b18048>"
      ]
     },
     "execution_count": 12,
     "metadata": {},
     "output_type": "execute_result"
    }
   ],
   "source": [
    "coordenadas = geo_last[['LATITUD','LONGITUD','POSITIVOS']]\n",
    "coordenadas = coordenadas.dropna()\n",
    "# CREANDO MAPA \n",
    "import folium \n",
    "from folium import plugins\n",
    "baseMap = folium.Map(\n",
    "                width = \"100%\",\n",
    "                height = \"100%\",\n",
    "                location =[-9.189967,-75.015152],\n",
    "                zoom_start=5\n",
    ")\n",
    "\n",
    "# MAPA DE CALOR\n",
    "baseMap =baseMap.add_child(plugins.HeatMap(coordenadas))\n",
    "baseMap\n"
   ]
  },
  {
   "cell_type": "code",
   "execution_count": 5,
   "metadata": {},
   "outputs": [],
   "source": [
    "geo_last=geo_last.dropna()"
   ]
  },
  {
   "cell_type": "markdown",
   "metadata": {},
   "source": [
    "# MAPA DE CALOR CON CASOS DE COVID Y MUERTOS "
   ]
  },
  {
   "cell_type": "code",
   "execution_count": 13,
   "metadata": {},
   "outputs": [
    {
     "data": {
      "text/html": [
       "<div style=\"width:100%;\"><div style=\"position:relative;width:100%;height:0;padding-bottom:60%;\"><span style=\"color:#565656\">Make this Notebook Trusted to load map: File -> Trust Notebook</span><iframe src=\"about:blank\" style=\"position:absolute;width:100%;height:100%;left:0;top:0;border:none !important;\" data-html=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 onload=\"this.contentDocument.open();this.contentDocument.write(atob(this.getAttribute('data-html')));this.contentDocument.close();\" allowfullscreen webkitallowfullscreen mozallowfullscreen></iframe></div></div>"
      ],
      "text/plain": [
       "<folium.folium.Map at 0x168f3b18048>"
      ]
     },
     "execution_count": 13,
     "metadata": {},
     "output_type": "execute_result"
    }
   ],
   "source": [
    "for i in range(1,len(geo_last)):\n",
    "    folium.Circle(\n",
    "        location =[geo_last.iloc[i]['LATITUD'],geo_last.iloc[i]['LONGITUD']],\n",
    "        color     = '#0CE829',\n",
    "        fill      = '#00A1B3',\n",
    "        tooltip   = '<li><bold> REGION:'+ str(geo_last.iloc[i]['Región'])+ \"</bold></li>\"+\n",
    "                    '<li><bold> CASOS:'+ str(geo_last.iloc[i]['POSITIVOS'])+ \"</bold></li>\"+\n",
    "                    '<li><bold> MUERTES:'+ str(geo_last.iloc[i]['FALLECIDOS'])+ \"</bold></li>\",\n",
    "        radius    = (geo_last.iloc[i]['POSITIVOS']**1.1)\n",
    "    ).add_to(baseMap)\n",
    "baseMap"
   ]
  }
 ],
 "metadata": {
  "kernelspec": {
   "display_name": "Python 3",
   "language": "python",
   "name": "python3"
  },
  "language_info": {
   "codemirror_mode": {
    "name": "ipython",
    "version": 3
   },
   "file_extension": ".py",
   "mimetype": "text/x-python",
   "name": "python",
   "nbconvert_exporter": "python",
   "pygments_lexer": "ipython3",
   "version": "3.7.6"
  }
 },
 "nbformat": 4,
 "nbformat_minor": 4
}
